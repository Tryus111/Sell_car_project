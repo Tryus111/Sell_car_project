{
 "cells": [
  {
   "cell_type": "code",
   "execution_count": 1,
   "id": "571df24b",
   "metadata": {},
   "outputs": [
    {
     "ename": "KeyboardInterrupt",
     "evalue": "",
     "output_type": "error",
     "traceback": [
      "\u001b[0;31m---------------------------------------------------------------------------\u001b[0m",
      "\u001b[0;31mKeyboardInterrupt\u001b[0m                         Traceback (most recent call last)",
      "Cell \u001b[0;32mIn[1], line 3\u001b[0m\n\u001b[1;32m      1\u001b[0m \u001b[38;5;28;01mimport\u001b[39;00m \u001b[38;5;21;01mpandas\u001b[39;00m \u001b[38;5;28;01mas\u001b[39;00m \u001b[38;5;21;01mpd\u001b[39;00m\n\u001b[1;32m      2\u001b[0m \u001b[38;5;28;01mimport\u001b[39;00m \u001b[38;5;21;01mnumpy\u001b[39;00m \u001b[38;5;28;01mas\u001b[39;00m \u001b[38;5;21;01mnp\u001b[39;00m\n\u001b[0;32m----> 3\u001b[0m \u001b[38;5;28;01mimport\u001b[39;00m \u001b[38;5;21;01mmatplotlib\u001b[39;00m\u001b[38;5;21;01m.\u001b[39;00m\u001b[38;5;21;01mpyplot\u001b[39;00m \u001b[38;5;28;01mas\u001b[39;00m \u001b[38;5;21;01mplt\u001b[39;00m\n\u001b[1;32m      4\u001b[0m \u001b[38;5;28;01mimport\u001b[39;00m \u001b[38;5;21;01mseaborn\u001b[39;00m \u001b[38;5;28;01mas\u001b[39;00m \u001b[38;5;21;01msns\u001b[39;00m\n\u001b[1;32m      5\u001b[0m \u001b[38;5;28;01mimport\u001b[39;00m \u001b[38;5;21;01mstatsmodels\u001b[39;00m \u001b[38;5;28;01mas\u001b[39;00m \u001b[38;5;21;01msm\u001b[39;00m\n",
      "File \u001b[0;32m~/anaconda3/lib/python3.10/site-packages/matplotlib/__init__.py:131\u001b[0m\n\u001b[1;32m    127\u001b[0m \u001b[38;5;28;01mfrom\u001b[39;00m \u001b[38;5;21;01mpackaging\u001b[39;00m\u001b[38;5;21;01m.\u001b[39;00m\u001b[38;5;21;01mversion\u001b[39;00m \u001b[38;5;28;01mimport\u001b[39;00m parse \u001b[38;5;28;01mas\u001b[39;00m parse_version\n\u001b[1;32m    129\u001b[0m \u001b[38;5;66;03m# cbook must import matplotlib only within function\u001b[39;00m\n\u001b[1;32m    130\u001b[0m \u001b[38;5;66;03m# definitions, so it is safe to import from it here.\u001b[39;00m\n\u001b[0;32m--> 131\u001b[0m \u001b[38;5;28;01mfrom\u001b[39;00m \u001b[38;5;21;01m.\u001b[39;00m \u001b[38;5;28;01mimport\u001b[39;00m _api, _version, cbook, _docstring, rcsetup\n\u001b[1;32m    132\u001b[0m \u001b[38;5;28;01mfrom\u001b[39;00m \u001b[38;5;21;01mmatplotlib\u001b[39;00m\u001b[38;5;21;01m.\u001b[39;00m\u001b[38;5;21;01mcbook\u001b[39;00m \u001b[38;5;28;01mimport\u001b[39;00m sanitize_sequence\n\u001b[1;32m    133\u001b[0m \u001b[38;5;28;01mfrom\u001b[39;00m \u001b[38;5;21;01mmatplotlib\u001b[39;00m\u001b[38;5;21;01m.\u001b[39;00m\u001b[38;5;21;01m_api\u001b[39;00m \u001b[38;5;28;01mimport\u001b[39;00m MatplotlibDeprecationWarning\n",
      "File \u001b[0;32m~/anaconda3/lib/python3.10/site-packages/matplotlib/rcsetup.py:27\u001b[0m\n\u001b[1;32m     25\u001b[0m \u001b[38;5;28;01mfrom\u001b[39;00m \u001b[38;5;21;01mmatplotlib\u001b[39;00m \u001b[38;5;28;01mimport\u001b[39;00m _api, cbook\n\u001b[1;32m     26\u001b[0m \u001b[38;5;28;01mfrom\u001b[39;00m \u001b[38;5;21;01mmatplotlib\u001b[39;00m\u001b[38;5;21;01m.\u001b[39;00m\u001b[38;5;21;01mcbook\u001b[39;00m \u001b[38;5;28;01mimport\u001b[39;00m ls_mapper\n\u001b[0;32m---> 27\u001b[0m \u001b[38;5;28;01mfrom\u001b[39;00m \u001b[38;5;21;01mmatplotlib\u001b[39;00m\u001b[38;5;21;01m.\u001b[39;00m\u001b[38;5;21;01mcolors\u001b[39;00m \u001b[38;5;28;01mimport\u001b[39;00m Colormap, is_color_like\n\u001b[1;32m     28\u001b[0m \u001b[38;5;28;01mfrom\u001b[39;00m \u001b[38;5;21;01mmatplotlib\u001b[39;00m\u001b[38;5;21;01m.\u001b[39;00m\u001b[38;5;21;01m_fontconfig_pattern\u001b[39;00m \u001b[38;5;28;01mimport\u001b[39;00m parse_fontconfig_pattern\n\u001b[1;32m     29\u001b[0m \u001b[38;5;28;01mfrom\u001b[39;00m \u001b[38;5;21;01mmatplotlib\u001b[39;00m\u001b[38;5;21;01m.\u001b[39;00m\u001b[38;5;21;01m_enums\u001b[39;00m \u001b[38;5;28;01mimport\u001b[39;00m JoinStyle, CapStyle\n",
      "File \u001b[0;32m~/anaconda3/lib/python3.10/site-packages/matplotlib/colors.py:51\u001b[0m\n\u001b[1;32m     49\u001b[0m \u001b[38;5;28;01mfrom\u001b[39;00m \u001b[38;5;21;01mnumbers\u001b[39;00m \u001b[38;5;28;01mimport\u001b[39;00m Number\n\u001b[1;32m     50\u001b[0m \u001b[38;5;28;01mimport\u001b[39;00m \u001b[38;5;21;01mre\u001b[39;00m\n\u001b[0;32m---> 51\u001b[0m \u001b[38;5;28;01mfrom\u001b[39;00m \u001b[38;5;21;01mPIL\u001b[39;00m \u001b[38;5;28;01mimport\u001b[39;00m Image\n\u001b[1;32m     52\u001b[0m \u001b[38;5;28;01mfrom\u001b[39;00m \u001b[38;5;21;01mPIL\u001b[39;00m\u001b[38;5;21;01m.\u001b[39;00m\u001b[38;5;21;01mPngImagePlugin\u001b[39;00m \u001b[38;5;28;01mimport\u001b[39;00m PngInfo\n\u001b[1;32m     54\u001b[0m \u001b[38;5;28;01mimport\u001b[39;00m \u001b[38;5;21;01mmatplotlib\u001b[39;00m \u001b[38;5;28;01mas\u001b[39;00m \u001b[38;5;21;01mmpl\u001b[39;00m\n",
      "File \u001b[0;32m~/anaconda3/lib/python3.10/site-packages/PIL/Image.py:50\u001b[0m\n\u001b[1;32m     45\u001b[0m     ElementTree \u001b[38;5;241m=\u001b[39m \u001b[38;5;28;01mNone\u001b[39;00m\n\u001b[1;32m     47\u001b[0m \u001b[38;5;66;03m# VERSION was removed in Pillow 6.0.0.\u001b[39;00m\n\u001b[1;32m     48\u001b[0m \u001b[38;5;66;03m# PILLOW_VERSION was removed in Pillow 9.0.0.\u001b[39;00m\n\u001b[1;32m     49\u001b[0m \u001b[38;5;66;03m# Use __version__ instead.\u001b[39;00m\n\u001b[0;32m---> 50\u001b[0m \u001b[38;5;28;01mfrom\u001b[39;00m \u001b[38;5;21;01m.\u001b[39;00m \u001b[38;5;28;01mimport\u001b[39;00m (\n\u001b[1;32m     51\u001b[0m     ExifTags,\n\u001b[1;32m     52\u001b[0m     ImageMode,\n\u001b[1;32m     53\u001b[0m     TiffTags,\n\u001b[1;32m     54\u001b[0m     UnidentifiedImageError,\n\u001b[1;32m     55\u001b[0m     __version__,\n\u001b[1;32m     56\u001b[0m     _plugins,\n\u001b[1;32m     57\u001b[0m )\n\u001b[1;32m     58\u001b[0m \u001b[38;5;28;01mfrom\u001b[39;00m \u001b[38;5;21;01m.\u001b[39;00m\u001b[38;5;21;01m_binary\u001b[39;00m \u001b[38;5;28;01mimport\u001b[39;00m i32le, o32be, o32le\n\u001b[1;32m     59\u001b[0m \u001b[38;5;28;01mfrom\u001b[39;00m \u001b[38;5;21;01m.\u001b[39;00m\u001b[38;5;21;01m_deprecate\u001b[39;00m \u001b[38;5;28;01mimport\u001b[39;00m deprecate\n",
      "File \u001b[0;32m~/anaconda3/lib/python3.10/site-packages/PIL/ExifTags.py:20\u001b[0m\n\u001b[1;32m     12\u001b[0m \u001b[38;5;124;03m\"\"\"\u001b[39;00m\n\u001b[1;32m     13\u001b[0m \u001b[38;5;124;03mThis module provides constants and clear-text names for various\u001b[39;00m\n\u001b[1;32m     14\u001b[0m \u001b[38;5;124;03mwell-known EXIF tags.\u001b[39;00m\n\u001b[1;32m     15\u001b[0m \u001b[38;5;124;03m\"\"\"\u001b[39;00m\n\u001b[1;32m     17\u001b[0m \u001b[38;5;28;01mfrom\u001b[39;00m \u001b[38;5;21;01menum\u001b[39;00m \u001b[38;5;28;01mimport\u001b[39;00m IntEnum\n\u001b[0;32m---> 20\u001b[0m \u001b[38;5;28;01mclass\u001b[39;00m \u001b[38;5;21;01mBase\u001b[39;00m(IntEnum):\n\u001b[1;32m     21\u001b[0m     \u001b[38;5;66;03m# possibly incomplete\u001b[39;00m\n\u001b[1;32m     22\u001b[0m     InteropIndex \u001b[38;5;241m=\u001b[39m \u001b[38;5;241m0x0001\u001b[39m\n\u001b[1;32m     23\u001b[0m     ProcessingSoftware \u001b[38;5;241m=\u001b[39m \u001b[38;5;241m0x000B\u001b[39m\n",
      "File \u001b[0;32m~/anaconda3/lib/python3.10/enum.py:302\u001b[0m, in \u001b[0;36mEnumMeta.__new__\u001b[0;34m(metacls, cls, bases, classdict, **kwds)\u001b[0m\n\u001b[1;32m    299\u001b[0m \u001b[38;5;66;03m# If another member with the same value was already defined, the\u001b[39;00m\n\u001b[1;32m    300\u001b[0m \u001b[38;5;66;03m# new member becomes an alias to the existing one.\u001b[39;00m\n\u001b[1;32m    301\u001b[0m \u001b[38;5;28;01mfor\u001b[39;00m name, canonical_member \u001b[38;5;129;01min\u001b[39;00m enum_class\u001b[38;5;241m.\u001b[39m_member_map_\u001b[38;5;241m.\u001b[39mitems():\n\u001b[0;32m--> 302\u001b[0m     \u001b[38;5;28;01mif\u001b[39;00m canonical_member\u001b[38;5;241m.\u001b[39m_value_ \u001b[38;5;241m==\u001b[39m enum_member\u001b[38;5;241m.\u001b[39m_value_:\n\u001b[1;32m    303\u001b[0m         enum_member \u001b[38;5;241m=\u001b[39m canonical_member\n\u001b[1;32m    304\u001b[0m         \u001b[38;5;28;01mbreak\u001b[39;00m\n",
      "\u001b[0;31mKeyboardInterrupt\u001b[0m: "
     ]
    }
   ],
   "source": [
    "import pandas as pd\n",
    "import numpy as np\n",
    "import matplotlib.pyplot as plt\n",
    "import seaborn as sns\n",
    "import statsmodels as sm"
   ]
  },
  {
   "cell_type": "code",
   "execution_count": null,
   "id": "26b72c07",
   "metadata": {},
   "outputs": [],
   "source": [
    "pd.set_option('display.max_columns', None)\n",
    "pd.set_option('display.max_rows', None)\n",
    "data_cleaned = pd.read_csv('data_cleaned.csv')\n",
    "df_cleaned = data_cleaned.copy()"
   ]
  },
  {
   "cell_type": "code",
   "execution_count": null,
   "id": "228ead96",
   "metadata": {},
   "outputs": [],
   "source": [
    "df_cleaned.head()"
   ]
  },
  {
   "cell_type": "code",
   "execution_count": null,
   "id": "1b0300fb",
   "metadata": {},
   "outputs": [],
   "source": [
    "df_cleaned['model'].value_counts()"
   ]
  },
  {
   "cell_type": "code",
   "execution_count": null,
   "id": "ac034aee",
   "metadata": {},
   "outputs": [],
   "source": [
    "df_cleaned['brand'].value_counts()"
   ]
  },
  {
   "cell_type": "code",
   "execution_count": null,
   "id": "c8e30d06",
   "metadata": {},
   "outputs": [],
   "source": [
    "df_cleaned.describe()"
   ]
  },
  {
   "cell_type": "code",
   "execution_count": null,
   "id": "368e819c",
   "metadata": {},
   "outputs": [],
   "source": [
    "df_cleaned.columns"
   ]
  },
  {
   "cell_type": "code",
   "execution_count": null,
   "id": "a9c6a794",
   "metadata": {},
   "outputs": [],
   "source": [
    "df_cleaned['year'].hist()"
   ]
  },
  {
   "cell_type": "code",
   "execution_count": null,
   "id": "fdec2040",
   "metadata": {},
   "outputs": [],
   "source": [
    "df_cleaned['engine_size'].hist()"
   ]
  },
  {
   "cell_type": "code",
   "execution_count": null,
   "id": "387c6565",
   "metadata": {},
   "outputs": [],
   "source": [
    "df_cleaned['mileage'].hist()"
   ]
  },
  {
   "cell_type": "code",
   "execution_count": null,
   "id": "a5bc9e85",
   "metadata": {},
   "outputs": [],
   "source": [
    "df_cleaned.head()"
   ]
  },
  {
   "cell_type": "code",
   "execution_count": null,
   "id": "d0cd7c62",
   "metadata": {},
   "outputs": [],
   "source": [
    "df_cleaned['fuel_type'].hist()"
   ]
  },
  {
   "cell_type": "code",
   "execution_count": null,
   "id": "c0fa0329",
   "metadata": {},
   "outputs": [],
   "source": [
    "df_cleaned['drivetrain'].hist()"
   ]
  },
  {
   "cell_type": "code",
   "execution_count": null,
   "id": "1dc05d9a",
   "metadata": {},
   "outputs": [],
   "source": [
    "df_cleaned.boxplot(column = ['drive_train_dummies', 'fuel_type_dummies', 'performance engine'])"
   ]
  },
  {
   "cell_type": "code",
   "execution_count": null,
   "id": "a776ebae",
   "metadata": {},
   "outputs": [],
   "source": [
    "corr = df_cleaned[['min_mpg', 'max_mpg', 'engine_size', 'performance engine', 'efficiency', 'year', 'price']].corr()\n",
    "cmap = sns.diverging_palette(230, 20, as_cmap=True)\n",
    "\n",
    "sns.heatmap(corr, cmap=cmap ,vmax=.3, center=0,\n",
    "            square=True, linewidths=.5, cbar_kws={\"shrink\": .5})"
   ]
  },
  {
   "cell_type": "code",
   "execution_count": null,
   "id": "deeb62fa",
   "metadata": {},
   "outputs": [],
   "source": [
    "df_cleaned.columns"
   ]
  },
  {
   "cell_type": "code",
   "execution_count": null,
   "id": "a313e82d",
   "metadata": {},
   "outputs": [],
   "source": [
    "df_cat = df_cleaned[['brand', 'model', 'year', 'engine',\n",
    "       'transmission', 'fuel_type', 'drivetrain',\n",
    "       'damaged', 'first_owner', 'personal_using',\n",
    "       'turbo', 'alloy_wheels', 'adaptive_cruise_control', 'navigation_system',\n",
    "       'power_liftgate', 'backup_camera', 'keyless_start', 'remote_start',\n",
    "       'sunroof/moonroof', 'automatic_emergency_braking', 'stability_control',\n",
    "       'leather_seats', 'memory_seat', 'third_row_seating',\n",
    "       'apple_car_play/android_auto', 'bluetooth', 'usb_port', 'heated_seats',\n",
    "       'interior_color', 'exterior_color']]"
   ]
  },
  {
   "cell_type": "code",
   "execution_count": null,
   "id": "5ba34ee8",
   "metadata": {
    "scrolled": true
   },
   "outputs": [],
   "source": [
    "for i in df_cat.columns:\n",
    "    cat_num = df_cat[i].value_counts()\n",
    "    print('Graph for %s : total %d' % (i, len(cat_num)))\n",
    "    sns.barplot(x=cat_num.index, y=cat_num)\n",
    "    plt.xticks(rotation=90)\n",
    "    plt.show()"
   ]
  },
  {
   "cell_type": "code",
   "execution_count": null,
   "id": "f48ad23a",
   "metadata": {},
   "outputs": [],
   "source": [
    "for i in df_cat[['model', 'transmission', 'engine', 'interior_color', 'exterior_color']]:\n",
    "    cat_num = df_cat[i].value_counts()[:40]\n",
    "    print('Graph for %s : total %d' % (i, len(cat_num)))\n",
    "    sns.barplot(x=cat_num.index, y=cat_num)\n",
    "    plt.xticks(rotation=90)\n",
    "    plt.show()"
   ]
  },
  {
   "cell_type": "code",
   "execution_count": null,
   "id": "1f829891",
   "metadata": {},
   "outputs": [],
   "source": [
    "pd.pivot_table(df_cleaned, index = ['brand', 'model', 'engine_size'] , values = 'price')"
   ]
  },
  {
   "cell_type": "code",
   "execution_count": null,
   "id": "8396605e",
   "metadata": {},
   "outputs": [],
   "source": [
    "pd.pivot_table(df_cleaned, index=['brand', 'model'], values= 'price').sort_values('price', ascending = False)"
   ]
  },
  {
   "cell_type": "code",
   "execution_count": null,
   "id": "a3951221",
   "metadata": {},
   "outputs": [],
   "source": []
  }
 ],
 "metadata": {
  "kernelspec": {
   "display_name": "Python 3 (ipykernel)",
   "language": "python",
   "name": "python3"
  },
  "language_info": {
   "codemirror_mode": {
    "name": "ipython",
    "version": 3
   },
   "file_extension": ".py",
   "mimetype": "text/x-python",
   "name": "python",
   "nbconvert_exporter": "python",
   "pygments_lexer": "ipython3",
   "version": "3.10.9"
  }
 },
 "nbformat": 4,
 "nbformat_minor": 5
}
